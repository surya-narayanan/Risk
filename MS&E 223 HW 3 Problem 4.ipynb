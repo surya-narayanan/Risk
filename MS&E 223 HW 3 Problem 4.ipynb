{
 "cells": [
  {
   "cell_type": "code",
   "execution_count": 2,
   "metadata": {},
   "outputs": [],
   "source": [
    "import math \n",
    "import numpy as np\n",
    "import pandas\n",
    "import matplotlib.pyplot as plt\n",
    "import random\n",
    "random.seed(a=None)"
   ]
  },
  {
   "cell_type": "code",
   "execution_count": 3,
   "metadata": {},
   "outputs": [],
   "source": [
    "def rollndice(n):\n",
    "    result = []\n",
    "    for i in np.linspace(1,2,n):\n",
    "        result.append(random.randint(1, 6))\n",
    "    return result"
   ]
  },
  {
   "cell_type": "code",
   "execution_count": 4,
   "metadata": {},
   "outputs": [],
   "source": [
    "def sort(array):\n",
    "    array = sorted(array, reverse = True)\n",
    "    return array"
   ]
  },
  {
   "cell_type": "code",
   "execution_count": 5,
   "metadata": {},
   "outputs": [],
   "source": [
    "def firstmatch(attackers, defenders):\n",
    "    a = 0\n",
    "    d = 0\n",
    "\n",
    "    if(attackers[0] > defenders[0]):\n",
    "        d -= 1\n",
    "    else:\n",
    "        a -=1\n",
    "        \n",
    "    return np.array([a,d])"
   ]
  },
  {
   "cell_type": "code",
   "execution_count": 6,
   "metadata": {},
   "outputs": [],
   "source": [
    "def secondmatch(attackers, defenders):\n",
    "    a = 0\n",
    "    d = 0\n",
    "    \n",
    "    if(attackers[1] > defenders[1]):\n",
    "        d -= 1\n",
    "    else:\n",
    "        a -=1\n",
    "        \n",
    "    return np.array([a,d])"
   ]
  },
  {
   "cell_type": "code",
   "execution_count": 7,
   "metadata": {},
   "outputs": [],
   "source": [
    "def oneround(a, d):\n",
    "    attackersthrows = []\n",
    "    defendersthrows = []\n",
    "    \n",
    "    attackingdice = 3\n",
    "    defendingdice = 2\n",
    "    \n",
    "    if(a > 1 and d > 0):\n",
    "        if(d >= 2):\n",
    "            \n",
    "            attackersthrows = sort(rollndice(attackingdice))\n",
    "            defendersthrows = sort(rollndice(defendingdice))\n",
    "            \n",
    "            result = np.array([a,d]) + firstmatch(attackersthrows, defendersthrows) +\\\n",
    "                    secondmatch(attackersthrows, defendersthrows)\n",
    "\n",
    "            return(result)\n",
    "\n",
    "        elif(d == 1):\n",
    "            attackersthrows = sort(rollndice(a))\n",
    "            defendersthrows = sort(rollndice(d))\n",
    "\n",
    "            result = np.array([a,d]) + firstmatch(attackersthrows, defendersthrows)\n",
    "\n",
    "            return(result)            \n",
    "    elif(a < 2):\n",
    "        print(\"defenders have won\")\n",
    "        return(a,d)\n",
    "    \n",
    "    elif(d < 1):\n",
    "        print(\"attackers have won\")\n",
    "        return(a,d)"
   ]
  },
  {
   "cell_type": "code",
   "execution_count": 8,
   "metadata": {},
   "outputs": [],
   "source": [
    "def multiplerounds(a,d):\n",
    "    rounds = 0\n",
    "    out = [a,d]\n",
    "    survival= [1,0]\n",
    "    \n",
    "    if( not np.all(np.greater(out, survival))):\n",
    "        print(\"Cannot play \")\n",
    "        if(not out[0] > survival[0]):\n",
    "            print(\"needs more attackers\")\n",
    "        else:\n",
    "            print(\"needs more defenders\")\n",
    "            \n",
    "    while(np.all(np.greater(out, survival))):\n",
    "            out = oneround(out[0], out[1])\n",
    "            rounds += 1\n",
    "    #        print(\"attackers\", out[0])\n",
    "    #        print(\"defenders\", out[1])\n",
    "    #        print(\"round: \", rounds)\n",
    "\n",
    "    if(out[0] > survival[0]):\n",
    "        return(1)\n",
    "    else:\n",
    "        return(0)"
   ]
  },
  {
   "cell_type": "code",
   "execution_count": 9,
   "metadata": {},
   "outputs": [],
   "source": [
    "def attackneeded(defenders):\n",
    "    roundsplayed = 1/10**8\n",
    "    attackingwins = 0\n",
    "    attackers = 2\n",
    "\n",
    "    while(attackingwins/roundsplayed < 0.6):\n",
    "        attackingwins += multiplerounds(attackers, defenders)\n",
    "        roundsplayed+= 1\n",
    "        attackers += 1\n",
    "            \n",
    "    return(attackers)\n",
    "\n"
   ]
  },
  {
   "cell_type": "code",
   "execution_count": 11,
   "metadata": {},
   "outputs": [
    {
     "name": "stdout",
     "output_type": "stream",
     "text": [
      "To conquer 1 defenders 60% of the time, we need 4.0748 attackers at least, on average\n",
      "To conquer 2 defenders 60% of the time, we need 5.6698 attackers at least, on average\n",
      "To conquer 3 defenders 60% of the time, we need 7.3673 attackers at least, on average\n",
      "To conquer 4 defenders 60% of the time, we need 9.5667 attackers at least, on average\n",
      "To conquer 5 defenders 60% of the time, we need 11.7711 attackers at least, on average\n",
      "To conquer 6 defenders 60% of the time, we need 14.1465 attackers at least, on average\n",
      "To conquer 7 defenders 60% of the time, we need 16.5283 attackers at least, on average\n",
      "To conquer 8 defenders 60% of the time, we need 18.8629 attackers at least, on average\n",
      "To conquer 9 defenders 60% of the time, we need 21.0801 attackers at least, on average\n",
      "To conquer 10 defenders 60% of the time, we need 23.3305 attackers at least, on average\n"
     ]
    }
   ],
   "source": [
    "for i in range(1,11):\n",
    "    trials = 10**4\n",
    "    attack_neded_for_n_trials = []\n",
    "    for j in range(trials):\n",
    "        attack_neded_for_n_trials.append(attackneeded(i))  \n",
    "    print(\"To conquer\", i, \"defenders 60% of the time, we need\",\\\n",
    "          np.mean(attack_neded_for_n_trials)\\\n",
    "          , \"attackers at least, on average\")"
   ]
  }
 ],
 "metadata": {
  "kernelspec": {
   "display_name": "Python 3",
   "language": "python",
   "name": "python3"
  },
  "language_info": {
   "codemirror_mode": {
    "name": "ipython",
    "version": 3
   },
   "file_extension": ".py",
   "mimetype": "text/x-python",
   "name": "python",
   "nbconvert_exporter": "python",
   "pygments_lexer": "ipython3",
   "version": "3.7.1"
  }
 },
 "nbformat": 4,
 "nbformat_minor": 2
}
